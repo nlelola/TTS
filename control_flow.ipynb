{
 "cells": [
  {
   "cell_type": "code",
   "execution_count": 152,
   "metadata": {},
   "outputs": [
    {
     "name": "stdout",
     "output_type": "stream",
     "text": [
      "The computer guessed 2 and your number was 6.\n"
     ]
    }
   ],
   "source": [
    "# Problem 1\n",
    "import random\n",
    "\n",
    "user_number = int(input(\"Guess a number between 1 to 9: \"))\n",
    "\n",
    "random_number = random.randint(1, 9)\n",
    "\n",
    "if user_number == random_number:\n",
    "    print(\"Wow on the first try the computer guessed the right number!\")\n",
    "elif user_number > random_number:\n",
    "    print(\n",
    "        f\"The computer guessed {random_number} and your number was {user_number}.\")\n",
    "else:\n",
    "    print(\n",
    "        f\"The number that you entered is lower than the computer's guess of {random_number}. \")\n"
   ]
  },
  {
   "cell_type": "code",
   "execution_count": 186,
   "metadata": {},
   "outputs": [
    {
     "name": "stdout",
     "output_type": "stream",
     "text": [
      "This is a valid password\n"
     ]
    }
   ],
   "source": [
    "# Problem 2\n",
    "\n",
    "# I found this to be the most challenging of the set of problems\n",
    "# I orginally tried using bulit in string methods and tried using a Tru/False method\n",
    "\n",
    "# Inizalized values to keep a counter\n",
    "s, l, u, d = 0, 0, 0, 0\n",
    "sum = 0\n",
    "password = input(\"Password: \")\n",
    "\n",
    "# Without using any imports\n",
    "symbols = ['#', '$', '@']\n",
    "lower = ['a', 'b', 'c', 'd', 'e', 'f', 'g', 'h', 'i', 'j', 'k', 'l',\n",
    "         'm', 'n', 'o', 'p', 'q', 'r', 's', 't', 'u', 'v', 'w', 'x', 'y', 'z']\n",
    "upper = ['A', 'B', 'C', 'D', 'E', 'F', 'G', 'H', 'I', 'J', 'K', 'L',\n",
    "         'M', 'N', 'O', 'P', 'Q', 'R', 'S', 'T', 'U', 'V', 'W', 'X', 'Y', 'Z']\n",
    "digits = \"0123456789\"\n",
    "\n",
    "if len(password) >= 6 or len(password) <= 20:\n",
    "    for char in password:\n",
    "        if char in symbols:\n",
    "            s += 1\n",
    "            sum += 1\n",
    "        if char in lower:\n",
    "            l += 1\n",
    "            sum += 1\n",
    "        if char in upper:\n",
    "            u += 1\n",
    "            sum += 1\n",
    "        if char in digits:\n",
    "            d += 1\n",
    "            sum += 1\n",
    "\n",
    "if sum == len(password) and s >= 1 and l >= 1 and u >= 1 and d >= 1:\n",
    "    print(\"This is a valid password\")\n",
    "else:\n",
    "    print(\"This isn't a valid password\")\n"
   ]
  },
  {
   "cell_type": "code",
   "execution_count": 185,
   "metadata": {},
   "outputs": [
    {
     "ename": "ValueError",
     "evalue": "invalid literal for int() with base 10: 'passwordD@1'",
     "output_type": "error",
     "traceback": [
      "\u001b[0;31m---------------------------------------------------------------------------\u001b[0m",
      "\u001b[0;31mValueError\u001b[0m                                Traceback (most recent call last)",
      "Cell \u001b[0;32mIn[185], line 3\u001b[0m\n\u001b[1;32m      1\u001b[0m \u001b[39m# Problem 3\u001b[39;00m\n\u001b[0;32m----> 3\u001b[0m your_age \u001b[39m=\u001b[39m \u001b[39mint\u001b[39;49m(\u001b[39minput\u001b[39;49m(\u001b[39m\"\u001b[39;49m\u001b[39mHow old are you? \u001b[39;49m\u001b[39m\"\u001b[39;49m))\n\u001b[1;32m      4\u001b[0m mom_age \u001b[39m=\u001b[39m \u001b[39mint\u001b[39m(\u001b[39minput\u001b[39m(\u001b[39m\"\u001b[39m\u001b[39mHow old is your mom? \u001b[39m\u001b[39m\"\u001b[39m))\n\u001b[1;32m      5\u001b[0m dad_age \u001b[39m=\u001b[39m \u001b[39mint\u001b[39m(\u001b[39minput\u001b[39m(\u001b[39m\"\u001b[39m\u001b[39mHow old is your dad? \u001b[39m\u001b[39m\"\u001b[39m))\n",
      "\u001b[0;31mValueError\u001b[0m: invalid literal for int() with base 10: 'passwordD@1'"
     ]
    }
   ],
   "source": [
    "# Problem 3\n",
    "\n",
    "your_age = int(input(\"How old are you? \"))\n",
    "mom_age = int(input(\"How old is your mom? \"))\n",
    "dad_age = int(input(\"How old is your dad? \"))\n",
    "\n",
    "age_list = [your_age, mom_age, dad_age]\n",
    "age_list.sort()\n",
    "age_list.reverse()\n",
    "\n",
    "print(age_list)\n"
   ]
  },
  {
   "cell_type": "code",
   "execution_count": 15,
   "metadata": {},
   "outputs": [
    {
     "name": "stdout",
     "output_type": "stream",
     "text": [
      "The student is allowed to sit in the exam\n"
     ]
    }
   ],
   "source": [
    "# Problem 4\n",
    "\n",
    "classes_held = int(input(\"How many classes have been held : \"))\n",
    "classes_attended = int(input(\"How many classes have you attened: \"))\n",
    "\n",
    "percentage = classes_attended / classes_held\n",
    "\n",
    "exam_sit = .75\n",
    "\n",
    "if percentage >= exam_sit:\n",
    "    print(f\"The student is allowed to sit in the exam\")\n",
    "else:\n",
    "    print(f\"The student can not sit in the exam\")\n"
   ]
  },
  {
   "cell_type": "code",
   "execution_count": 145,
   "metadata": {},
   "outputs": [
    {
     "name": "stdout",
     "output_type": "stream",
     "text": [
      "weird\n"
     ]
    }
   ],
   "source": [
    "# Problem 5\n",
    "\n",
    "user_input = int(input(\"Enter a number: \"))\n",
    "\n",
    "if user_input % 2 != 0:\n",
    "    print(\"weird\")\n",
    "elif user_input % 2 == 0 and user_input in range(2, 5):\n",
    "    print(\"Not Weird\")\n",
    "elif user_input % 2 == 0 and user_input in range(6, 20):\n",
    "    print(\"Weird\")\n",
    "elif user_input % 2 == 0 and user_input > 20:\n",
    "    print(\"Not Weird\")\n"
   ]
  }
 ],
 "metadata": {
  "kernelspec": {
   "display_name": "venv",
   "language": "python",
   "name": "python3"
  },
  "language_info": {
   "codemirror_mode": {
    "name": "ipython",
    "version": 3
   },
   "file_extension": ".py",
   "mimetype": "text/x-python",
   "name": "python",
   "nbconvert_exporter": "python",
   "pygments_lexer": "ipython3",
   "version": "3.10.4"
  },
  "orig_nbformat": 4
 },
 "nbformat": 4,
 "nbformat_minor": 2
}
