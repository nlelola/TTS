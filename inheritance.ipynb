{
 "cells": [
  {
   "cell_type": "code",
   "execution_count": 60,
   "metadata": {},
   "outputs": [
    {
     "name": "stdout",
     "output_type": "stream",
     "text": [
      "A: 91.83333333333333\n",
      "B: 80.5\n"
     ]
    }
   ],
   "source": [
    "class Person:\n",
    "    def __init__(self, first_name, last_name):\n",
    "        self.first_name = first_name\n",
    "        self.last_name = last_name\n",
    "\n",
    "\n",
    "class Student(Person):\n",
    "    def __init__(self, first_name, last_name, id, test_scores):\n",
    "        super().__init__(first_name, last_name)\n",
    "        self.id = id\n",
    "        self.test_scores = test_scores\n",
    "\n",
    "    def calculate(self):\n",
    "        average_score = sum(self.test_scores) / len(self.test_scores)\n",
    "        if average_score >= 90:\n",
    "            return f\"A: {average_score}\"\n",
    "        elif average_score >= 80:\n",
    "            return f\"B: {average_score}\"\n",
    "        elif average_score >= 70:\n",
    "            return f\"C: {average_score}\"\n",
    "        elif average_score >= 60:\n",
    "            return f\"D: {average_score}\"\n",
    "        else:\n",
    "            return f\"F: {average_score}\"\n",
    "\n",
    "\n",
    "person_1 = Student(\"Bill\", \"Gates\", 1, [95, 89, 85, 100, 87, 95])\n",
    "person_2 = Student(\"Lionel\", \"Messi\", 10, [77, 80, 65, 89, 76, 96])\n",
    "print(person_1.calculate())\n",
    "print(person_2.calculate())\n"
   ]
  },
  {
   "cell_type": "code",
   "execution_count": 31,
   "metadata": {},
   "outputs": [
    {
     "data": {
      "text/plain": [
       "60.5"
      ]
     },
     "execution_count": 31,
     "metadata": {},
     "output_type": "execute_result"
    }
   ],
   "source": []
  },
  {
   "cell_type": "code",
   "execution_count": null,
   "metadata": {},
   "outputs": [],
   "source": []
  }
 ],
 "metadata": {
  "kernelspec": {
   "display_name": "venv",
   "language": "python",
   "name": "python3"
  },
  "language_info": {
   "codemirror_mode": {
    "name": "ipython",
    "version": 3
   },
   "file_extension": ".py",
   "mimetype": "text/x-python",
   "name": "python",
   "nbconvert_exporter": "python",
   "pygments_lexer": "ipython3",
   "version": "3.10.4"
  },
  "orig_nbformat": 4
 },
 "nbformat": 4,
 "nbformat_minor": 2
}
