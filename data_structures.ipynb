{
 "cells": [
  {
   "cell_type": "code",
   "execution_count": 6,
   "metadata": {},
   "outputs": [
    {
     "name": "stdout",
     "output_type": "stream",
     "text": [
      "(2.0, 1.0)\n"
     ]
    }
   ],
   "source": [
    "# Problem 1\n",
    "\n",
    "def solve_quadratic(a, b, c):\n",
    "    positve = (-b + ((b * b - 4 * a * c) ** 0.5)) / (2 * a)\n",
    "    negative = (-b - ((b * b - 4 * a * c) ** 0.5)) / (2 * a)\n",
    "\n",
    "    answer = (positve, negative)\n",
    "\n",
    "    print(answer)\n",
    "\n",
    "\n",
    "solve_quadratic(1, -3, 2)\n"
   ]
  },
  {
   "cell_type": "code",
   "execution_count": 61,
   "metadata": {},
   "outputs": [
    {
     "name": "stdout",
     "output_type": "stream",
     "text": [
      "('0', '1', '2', '3', '4', '5')\n",
      "3986393021371084748\n"
     ]
    }
   ],
   "source": [
    "# Problem 2\n",
    "\n",
    "integers = input(\"Enter a space-seperated list of integers: \")\n",
    "\n",
    "tuple_list = tuple(integers.split())\n",
    "\n",
    "print(hash(tuple_list))\n"
   ]
  },
  {
   "cell_type": "code",
   "execution_count": 22,
   "metadata": {},
   "outputs": [
    {
     "name": "stdout",
     "output_type": "stream",
     "text": [
      "[3, 9, 15, 21, 8, 16, 24]\n"
     ]
    }
   ],
   "source": [
    "# Problem 3\n",
    "\n",
    "def list_sep(lst1, lst2):\n",
    "    even = lst2[1::2]\n",
    "    odd = lst1[::2]\n",
    "    new_list = odd + even\n",
    "\n",
    "    print(new_list)\n",
    "\n",
    "\n",
    "list_sep([3, 6, 9, 12, 15, 18, 21], [4, 8, 12, 16, 20, 24, 28])\n"
   ]
  },
  {
   "cell_type": "code",
   "execution_count": 19,
   "metadata": {},
   "outputs": [
    {
     "name": "stdout",
     "output_type": "stream",
     "text": [
      "[8, 45, 11]\n",
      "[12, 14, 23]\n",
      "[89, 45, 78]\n"
     ]
    }
   ],
   "source": [
    "# Problem 4\n",
    "\n",
    "def new_list(sampleList):\n",
    "    for i in range(0, len(sampleList), 3):\n",
    "        list_slice = (sampleList[i:i + 3])\n",
    "        list_slice.reverse()\n",
    "        print(list_slice)\n",
    "\n",
    "\n",
    "new_list([11, 45, 8, 23, 14, 12, 78, 45, 89])\n"
   ]
  },
  {
   "cell_type": "code",
   "execution_count": 34,
   "metadata": {},
   "outputs": [
    {
     "name": "stdout",
     "output_type": "stream",
     "text": [
      "[47, 69, 76, 95]\n"
     ]
    }
   ],
   "source": [
    "# Problem 5\n",
    "\n",
    "rollNumber = [47, 64, 69, 37, 76, 83, 95, 97]\n",
    "sampleDict = {'Zach': 47, 'Emma': 69, 'Kelly': 76, 'Jason': 97}\n",
    "new_list = []\n",
    "\n",
    "for num in rollNumber:\n",
    "    if num not in sampleDict:\n",
    "        rollNumber.remove(num)\n",
    "\n",
    "    new_list.append(num)\n",
    "print(new_list)\n"
   ]
  }
 ],
 "metadata": {
  "kernelspec": {
   "display_name": "venv",
   "language": "python",
   "name": "python3"
  },
  "language_info": {
   "codemirror_mode": {
    "name": "ipython",
    "version": 3
   },
   "file_extension": ".py",
   "mimetype": "text/x-python",
   "name": "python",
   "nbconvert_exporter": "python",
   "pygments_lexer": "ipython3",
   "version": "3.10.4"
  },
  "orig_nbformat": 4
 },
 "nbformat": 4,
 "nbformat_minor": 2
}
