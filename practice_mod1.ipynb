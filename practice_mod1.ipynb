{
 "cells": [
  {
   "cell_type": "code",
   "execution_count": 3,
   "metadata": {},
   "outputs": [
    {
     "name": "stdout",
     "output_type": "stream",
     "text": [
      "Snow Jon\n"
     ]
    }
   ],
   "source": [
    "\n",
    "# Problem 1\n",
    "first_mame = \"Jon\"\n",
    "last_name = \"Snow\"\n",
    "\n",
    "reverse = f\"{last_name} {first_mame}\"\n",
    "\n",
    "print(reverse)\n"
   ]
  },
  {
   "cell_type": "code",
   "execution_count": 17,
   "metadata": {},
   "outputs": [
    {
     "name": "stdout",
     "output_type": "stream",
     "text": [
      "492\n"
     ]
    }
   ],
   "source": [
    "# Problem 2\n",
    "user_integer = input(\"Integer: \")\n",
    "answer = int(user_integer) + int(user_integer * 2) + int(user_integer * 3)\n",
    "print(answer)\n"
   ]
  },
  {
   "cell_type": "code",
   "execution_count": null,
   "metadata": {},
   "outputs": [],
   "source": [
    "# Problem 3\n",
    "\n",
    "user_input = input(\"What country are you from?\")\n",
    "message = f\"I have heard that {user_input} is a beautiful country!\"\n",
    "print(message)\n"
   ]
  },
  {
   "cell_type": "code",
   "execution_count": 4,
   "metadata": {},
   "outputs": [],
   "source": [
    "# Problem 4\n",
    "\n",
    "# This problem uses an and operator which means that both conditions most be true\n",
    "# in this example the first condition is false meaning that there will be no output\n"
   ]
  },
  {
   "cell_type": "code",
   "execution_count": 7,
   "metadata": {},
   "outputs": [],
   "source": [
    "# Problem 5\n",
    "\n",
    "# Here in this problem I believe that we are storing in the memory that the list b = a\n",
    "# Giving us a = [10,20] and b = [10,20]\n",
    "# In the next line which can be written as b = b + [30,40]\n",
    "# Which then adds the new list to the end of the list, executing\n",
    "# [10,20,30,40]\n"
   ]
  },
  {
   "cell_type": "code",
   "execution_count": 9,
   "metadata": {},
   "outputs": [],
   "source": [
    "# Problem 6\n",
    "\n",
    "# The % symbol is the modulus operator in python, which is giving us the remainder.\n",
    "# The output of th efollowing code is 2\n"
   ]
  },
  {
   "cell_type": "code",
   "execution_count": 1,
   "metadata": {},
   "outputs": [
    {
     "name": "stdout",
     "output_type": "stream",
     "text": [
      "216\n"
     ]
    }
   ],
   "source": [
    "# Problem 7\n",
    "\n",
    "# In python the rules of math still apply. Here we are still going to use orders of operations\n",
    "# The output would be (2*27*4) = 216\n"
   ]
  },
  {
   "cell_type": "code",
   "execution_count": null,
   "metadata": {},
   "outputs": [],
   "source": [
    "# Problem 8\n",
    "\n",
    "# A text editor is a computer program that allows us to edit text files\n",
    "\n",
    "# Problem 9\n",
    "\n",
    "# Python is a high-level programing language that writes like engish (not assembly language)\n",
    "\n",
    "# Problem 10\n",
    "\n",
    "# A jupyter notebook is a programming language that is hosted via the internet.\n",
    "# It can be very helpful for doing programing that requries high computing power\n",
    "# that uses a lot of the machines GPU/CPU\n",
    "# There are many different alternatives to Jupyer, such as Google colab and Azure notebooks/\n"
   ]
  }
 ],
 "metadata": {
  "kernelspec": {
   "display_name": "venv",
   "language": "python",
   "name": "python3"
  },
  "language_info": {
   "codemirror_mode": {
    "name": "ipython",
    "version": 3
   },
   "file_extension": ".py",
   "mimetype": "text/x-python",
   "name": "python",
   "nbconvert_exporter": "python",
   "pygments_lexer": "ipython3",
   "version": "3.10.4"
  },
  "orig_nbformat": 4
 },
 "nbformat": 4,
 "nbformat_minor": 2
}
